{
 "cells": [
  {
   "cell_type": "code",
   "execution_count": null,
   "metadata": {},
   "outputs": [],
   "source": [
    "import os\n",
    "path = \"/dss/dsshome1/04/ge57san2/Conditional-Sig-Wasserstein-GANs\"  # add own path here\n",
    "os.chdir(path)\n",
    "!git -C /dss/dsshome1/04/ge57san2/Conditional-Sig-Wasserstein-GANs pull  # pull from Github after having it initially cloned\n",
    "import sys\n",
    "sys.path.append('/dss/dsshome1/04/ge57san2/lrz_requirements')  # We download the requirements once, for this the folder is created by hand first.\n",
    "\n",
    "#These are used to install necessary Requirements:\n",
    "#!pip install --target=/dss/dsshome1/04/ge57san2/lrz_requirements -r Requirement_files/LRZ_requirements.txt\n",
    "#!pip install --target=/dss/dsshome1/04/ge57san2/lrz_requirements tensorflow numpy==1.24.3 tensorboard==2.14.0"
   ]
  },
  {
   "cell_type": "code",
   "execution_count": null,
   "metadata": {},
   "outputs": [],
   "source": [
    "dataset = 'corrrelated_Blackscholes'  # 'correlated_Blackscholes', 'Heston', 'YFinance' # to adjust parameters go into the python code.\n",
    "action_noise_sigma = 0.02\n",
    "num_paths = 1\n",
    "num_bm = 1\n",
    "train_freq = 1\n",
    "buffer_size = 1000000\n",
    "window_size = 1\n",
    "grid_points = 1\n",
    "sig_q = 10\n",
    "GAN_sampling = ''\n",
    "time_dependent = ''\n",
    "allow_lending = ''\n",
    "\n",
    "settings = f\"-dataset {dataset} -action_noise_sigma {action_noise_sigma} -num_paths {num_paths} -num_bm {num_bm} -sig_p {sig_p} -sig_q {sig_q} -train_freq {train_freq} -buffer_size {buffer_size} \" \\\n",
    "    f\"{GAN_sampling} {time_dependent} {allow_lending} --learning_rates 0.0001 --batch_sizes 1024\" "
   ]
  },
  {
   "cell_type": "code",
   "execution_count": null,
   "metadata": {
    "scrolled": true
   },
   "outputs": [],
   "source": [
    "%run TD3/td3_train.py -mode train -model_ID 1 -window_size 252 -grid_points 252 -total_timesteps 100000 $settings -statement Test"
   ]
  },
  {
   "cell_type": "code",
   "execution_count": null,
   "metadata": {
    "scrolled": true
   },
   "outputs": [],
   "source": [
    "%run TD3/td3_train.py -mode compare -model_ID 41 -num_episodes 100000 $settings"
   ]
  }
 ],
 "metadata": {
  "accelerator": "GPU",
  "colab": {
   "gpuType": "T4",
   "include_colab_link": true,
   "provenance": []
  },
  "kernelspec": {
   "display_name": "Python 3 (ipykernel)",
   "language": "python",
   "name": "python3"
  },
  "language_info": {
   "codemirror_mode": {
    "name": "ipython",
    "version": 3
   },
   "file_extension": ".py",
   "mimetype": "text/x-python",
   "name": "python",
   "nbconvert_exporter": "python",
   "pygments_lexer": "ipython3",
   "version": "3.10.12"
  }
 },
 "nbformat": 4,
 "nbformat_minor": 4
}
