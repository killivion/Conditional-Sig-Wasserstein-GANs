{
  "nbformat": 4,
  "nbformat_minor": 0,
  "metadata": {
    "colab": {
      "provenance": [],
      "gpuType": "T4",
      "include_colab_link": true
    },
    "kernelspec": {
      "name": "python3",
      "display_name": "Python 3"
    },
    "language_info": {
      "name": "python"
    },
    "accelerator": "GPU"
  },
  "cells": [
    {
      "cell_type": "markdown",
      "metadata": {
        "id": "view-in-github",
        "colab_type": "text"
      },
      "source": [
        "<a href=\"https://colab.research.google.com/github/killivion/Conditional-Sig-Wasserstein-GANs/blob/master/SigLib.ipynb\" target=\"_parent\"><img src=\"https://colab.research.google.com/assets/colab-badge.svg\" alt=\"Open In Colab\"/></a>"
      ]
    },
    {
      "cell_type": "code",
      "execution_count": 2,
      "metadata": {
        "id": "FUN5vHU5AbTV",
        "outputId": "5627fd1d-4a0b-4868-ffa4-6511fe4fbe6b",
        "colab": {
          "base_uri": "https://localhost:8080/"
        }
      },
      "outputs": [
        {
          "output_type": "stream",
          "name": "stdout",
          "text": [
            "/content/drive/MyDrive/Conditional-Sig-Wasserstein-GANs\n"
          ]
        }
      ],
      "source": [
        "%cd \"/content/drive/MyDrive/Conditional-Sig-Wasserstein-GANs\""
      ]
    },
    {
      "cell_type": "code",
      "source": [
        "#!git -C /content/Conditional-Sig-Wasserstein-GANs pull\n",
        "#!pip install -r PetReq.yml"
      ],
      "metadata": {
        "id": "pisDN2U_I8nJ"
      },
      "execution_count": null,
      "outputs": []
    },
    {
      "cell_type": "code",
      "source": [
        "import train\n",
        "import argparse\n",
        "\n",
        "\"\"\"# Number of daily log-returns to output\n",
        "n_out = 252 * 100000\n",
        "# Set nYearsIn to 0 for YFinance dataset\n",
        "nYearsIn = 10\n",
        "\"\"\"\n",
        "\n",
        "parser = argparse.ArgumentParser()\n",
        "# Meta parameters\n",
        "parser.add_argument('-base_dir', default='./numerical_results', type=str)\n",
        "parser.add_argument('-use_cuda', type=bool, default=True)\n",
        "# Specify the GPU to use\n",
        "parser.add_argument('-device', default=0, type=int)\n",
        "# For retraining, increase number of seeds\n",
        "parser.add_argument('-num_seeds', default=1, type=int)\n",
        "parser.add_argument('-initial_seed', default=42, type=int)\n",
        "parser.add_argument('-datasets', default=['Blackscholes'], nargs=\"+\")#, 'ARCH', 'VAR'\n",
        "parser.add_argument('-algos', default=['SigCWGAN'], nargs=\"+\") #, 'GMMN', 'RCGAN', 'TimeGAN', 'CWGAN'\n",
        "\n",
        "# Algo hyperparameters\n",
        "parser.add_argument('-batch_size', default=200, type=int)\n",
        "parser.add_argument('-p', default=3, type=int)\n",
        "parser.add_argument('-q', default=3, type=int)\n",
        "parser.add_argument('-hidden_dims', default=3 * (50,), type=tuple)\n",
        "parser.add_argument('-total_steps', default=1000, type=int)\n",
        "#parser.add_argument('-mc_samples', default=1000, type=int)\n",
        "\n",
        "# Ignore unknown arguments\n",
        "args, unknown = parser.parse_known_args()\n",
        "train.main(args) #, nYearsInOwn=nYearsIn, n_out=n_out"
      ],
      "metadata": {
        "id": "OCbSE-DvHOfe",
        "outputId": "b651852e-8330-4415-824b-4fe6b06783e5",
        "colab": {
          "base_uri": "https://localhost:8080/"
        }
      },
      "execution_count": 5,
      "outputs": [
        {
          "output_type": "stream",
          "name": "stdout",
          "text": [
            "Start of training. CUDA: True\n",
            "Executing: SigCWGAN, Blackscholes, mu=0.05_sigma=0.2\n"
          ]
        },
        {
          "output_type": "stream",
          "name": "stderr",
          "text": [
            "100%|███████████████████████████████████████| 1000/1000 [00:53<00:00, 18.69it/s]\n"
          ]
        }
      ]
    },
    {
      "cell_type": "code",
      "source": [
        "#from google.colab import drive\n",
        "#drive.mount('/content/drive')\n",
        "#!git clone https://github.com/killivion/Conditional-Sig-Wasserstein-GANs /content/drive/MyDrive/Conditional-Sig-Wasserstein-GANs\n",
        "\n",
        "#!git clone https://github.com/reutep/LiaoWGAN/tree/f2eb2895c44c61d37255f1ab11678034a52723c5 /content/drive/MyDrive/Peters/LiaoWGAN\n",
        "#%cd \"/content/drive/MyDrive/Peters/LiaoWGAN\""
      ],
      "metadata": {
        "id": "LSlAqmNxIecW"
      },
      "execution_count": null,
      "outputs": []
    },
    {
      "cell_type": "code",
      "source": [
        "%debug\n",
        "try:\n",
        "  %run train.py\n",
        "except Exception as e:\n",
        "  %debug"
      ],
      "metadata": {
        "id": "3aigiWWuI0SB"
      },
      "execution_count": null,
      "outputs": []
    },
    {
      "cell_type": "code",
      "source": [
        "import os\n",
        "# Set working directory to MarketGenerators folder\n",
        "# If you are working on LRZ servers, create the folder \"MarketGenerators\" and then specify something like\n",
        "path = \"/dss/dsshome1/02/YOUR_LRZ_USER_NAME/MarketGenerators\"\n",
        "os.chdir(path)"
      ],
      "metadata": {
        "id": "U_fH1BG0G_8r"
      },
      "execution_count": null,
      "outputs": []
    }
  ]
}