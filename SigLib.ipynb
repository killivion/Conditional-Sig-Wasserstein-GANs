{
  "nbformat": 4,
  "nbformat_minor": 0,
  "metadata": {
    "colab": {
      "provenance": [],
      "gpuType": "T4",
      "include_colab_link": true
    },
    "kernelspec": {
      "name": "python3",
      "display_name": "Python 3"
    },
    "language_info": {
      "name": "python"
    },
    "accelerator": "GPU"
  },
  "cells": [
    {
      "cell_type": "markdown",
      "metadata": {
        "id": "view-in-github",
        "colab_type": "text"
      },
      "source": [
        "<a href=\"https://colab.research.google.com/github/killivion/Conditional-Sig-Wasserstein-GANs/blob/master/SigLib.ipynb\" target=\"_parent\"><img src=\"https://colab.research.google.com/assets/colab-badge.svg\" alt=\"Open In Colab\"/></a>"
      ]
    },
    {
      "cell_type": "code",
      "source": [
        "from google.colab import drive\n",
        "drive.mount('/content/drive')\n",
        "%cd \"/content/drive/MyDrive/Conditional-Sig-Wasserstein-GANs\"\n",
        "\n",
        "!pip install -r --target=/content/drive/MyDrive/colab_packages ColabRequirements.yml\n",
        "import sys\n",
        "sys.path.append('/content/drive/My Drive/colab_packages')\n",
        "\n",
        "#!git -C /content/drive/MyDrive/Conditional-Sig-Wasserstein-GANs pull"
      ],
      "metadata": {
        "id": "EkyrZZztc9PD"
      },
      "execution_count": null,
      "outputs": []
    },
    {
      "cell_type": "code",
      "source": [
        "%run train.py -use_cuda -datasets Blackscholes -algos SigCWGAN -total_steps 1000"
      ],
      "metadata": {
        "id": "gnOEXoy1bLEg",
        "outputId": "985a9582-8a04-46b7-8543-74468f5ad7c4",
        "colab": {
          "base_uri": "https://localhost:8080/",
          "height": 86
        }
      },
      "execution_count": 10,
      "outputs": [
        {
          "output_type": "stream",
          "name": "stdout",
          "text": [
            "Start of training. CUDA: True\n",
            "Executing: SigCWGAN, Blackscholes, mu=0.05_sigma=0.2\n"
          ]
        },
        {
          "output_type": "stream",
          "name": "stderr",
          "text": [
            "100%|███████████████████████████████████████| 1000/1000 [00:55<00:00, 17.90it/s]\n"
          ]
        },
        {
          "output_type": "display_data",
          "data": {
            "text/plain": [
              "<Figure size 640x480 with 0 Axes>"
            ]
          },
          "metadata": {}
        }
      ]
    },
    {
      "cell_type": "code",
      "source": [
        "#%debug\n",
        "#try:\n",
        "%run evaluate.py -use_cuda -datasets Blackscholes -algos SigCWGAN\n",
        "#except Exception as e:\n",
        "#  %debug\n",
        "\n",
        "#df = df.append(experiment_summary, ignore_index=True, )\n",
        "#pd.concat([df, experiment_summary], ignore_index=True, )"
      ],
      "metadata": {
        "id": "7SDfTYtBhKYc",
        "outputId": "bac603c4-f05f-47f0-9182-a9384d863996",
        "colab": {
          "base_uri": "https://localhost:8080/",
          "height": 408
        }
      },
      "execution_count": 33,
      "outputs": [
        {
          "output_type": "stream",
          "name": "stdout",
          "text": [
            "Running evalution on GPU.\n",
            "Blackscholes mu=0.05_sigma=0.2 SigCWGAN\n"
          ]
        },
        {
          "output_type": "error",
          "ename": "AttributeError",
          "evalue": "'DataFrame' object has no attribute 'append'",
          "traceback": [
            "\u001b[0;31m---------------------------------------------------------------------------\u001b[0m",
            "\u001b[0;31mAttributeError\u001b[0m                            Traceback (most recent call last)",
            "\u001b[0;32m/content/drive/MyDrive/Conditional-Sig-Wasserstein-GANs/evaluate.py\u001b[0m in \u001b[0;36m<module>\u001b[0;34m\u001b[0m\n\u001b[1;32m    212\u001b[0m     \u001b[0mparser\u001b[0m\u001b[0;34m.\u001b[0m\u001b[0madd_argument\u001b[0m\u001b[0;34m(\u001b[0m\u001b[0;34m'-algos'\u001b[0m\u001b[0;34m,\u001b[0m \u001b[0mdefault\u001b[0m\u001b[0;34m=\u001b[0m\u001b[0;34m[\u001b[0m\u001b[0;34m'SigCWGAN'\u001b[0m\u001b[0;34m,\u001b[0m \u001b[0;34m'GMMN'\u001b[0m\u001b[0;34m,\u001b[0m \u001b[0;34m'RCGAN'\u001b[0m\u001b[0;34m,\u001b[0m \u001b[0;34m'TimeGAN'\u001b[0m\u001b[0;34m,\u001b[0m \u001b[0;34m'RCWGAN'\u001b[0m\u001b[0;34m,\u001b[0m \u001b[0;34m]\u001b[0m\u001b[0;34m,\u001b[0m \u001b[0mnargs\u001b[0m\u001b[0;34m=\u001b[0m\u001b[0;34m\"+\"\u001b[0m\u001b[0;34m)\u001b[0m\u001b[0;34m\u001b[0m\u001b[0;34m\u001b[0m\u001b[0m\n\u001b[1;32m    213\u001b[0m     \u001b[0margs\u001b[0m \u001b[0;34m=\u001b[0m \u001b[0mparser\u001b[0m\u001b[0;34m.\u001b[0m\u001b[0mparse_args\u001b[0m\u001b[0;34m(\u001b[0m\u001b[0;34m)\u001b[0m\u001b[0;34m\u001b[0m\u001b[0;34m\u001b[0m\u001b[0m\n\u001b[0;32m--> 214\u001b[0;31m     \u001b[0mevaluate_benchmarks\u001b[0m\u001b[0;34m(\u001b[0m\u001b[0mbase_dir\u001b[0m\u001b[0;34m=\u001b[0m\u001b[0margs\u001b[0m\u001b[0;34m.\u001b[0m\u001b[0mbase_dir\u001b[0m\u001b[0;34m,\u001b[0m \u001b[0muse_cuda\u001b[0m\u001b[0;34m=\u001b[0m\u001b[0margs\u001b[0m\u001b[0;34m.\u001b[0m\u001b[0muse_cuda\u001b[0m\u001b[0;34m,\u001b[0m \u001b[0mdatasets\u001b[0m\u001b[0;34m=\u001b[0m\u001b[0margs\u001b[0m\u001b[0;34m.\u001b[0m\u001b[0mdatasets\u001b[0m\u001b[0;34m,\u001b[0m \u001b[0malgos\u001b[0m\u001b[0;34m=\u001b[0m\u001b[0margs\u001b[0m\u001b[0;34m.\u001b[0m\u001b[0malgos\u001b[0m\u001b[0;34m)\u001b[0m\u001b[0;34m\u001b[0m\u001b[0;34m\u001b[0m\u001b[0m\n\u001b[0m",
            "\u001b[0;32m/content/drive/MyDrive/Conditional-Sig-Wasserstein-GANs/evaluate.py\u001b[0m in \u001b[0;36mevaluate_benchmarks\u001b[0;34m(algos, base_dir, datasets, use_cuda)\u001b[0m\n\u001b[1;32m    198\u001b[0m                     \u001b[0;31m# add relevant parameters used during training to the experiment summary\u001b[0m\u001b[0;34m\u001b[0m\u001b[0;34m\u001b[0m\u001b[0m\n\u001b[1;32m    199\u001b[0m                     \u001b[0mexperiment_summary\u001b[0m \u001b[0;34m=\u001b[0m \u001b[0mcomplete_experiment_summary\u001b[0m\u001b[0;34m(\u001b[0m\u001b[0mdataset_dir\u001b[0m\u001b[0;34m,\u001b[0m \u001b[0mexperiment_dir\u001b[0m\u001b[0;34m,\u001b[0m \u001b[0mexperiment_summary\u001b[0m\u001b[0;34m)\u001b[0m\u001b[0;34m\u001b[0m\u001b[0;34m\u001b[0m\u001b[0m\n\u001b[0;32m--> 200\u001b[0;31m                     \u001b[0mdf\u001b[0m \u001b[0;34m=\u001b[0m \u001b[0mdf\u001b[0m\u001b[0;34m.\u001b[0m\u001b[0mappend\u001b[0m\u001b[0;34m(\u001b[0m\u001b[0mexperiment_summary\u001b[0m\u001b[0;34m,\u001b[0m \u001b[0mignore_index\u001b[0m\u001b[0;34m=\u001b[0m\u001b[0;32mTrue\u001b[0m\u001b[0;34m,\u001b[0m \u001b[0;34m)\u001b[0m\u001b[0;34m\u001b[0m\u001b[0;34m\u001b[0m\u001b[0m\n\u001b[0m\u001b[1;32m    201\u001b[0m             \u001b[0mdf_dst_path\u001b[0m \u001b[0;34m=\u001b[0m \u001b[0mos\u001b[0m\u001b[0;34m.\u001b[0m\u001b[0mpath\u001b[0m\u001b[0;34m.\u001b[0m\u001b[0mjoin\u001b[0m\u001b[0;34m(\u001b[0m\u001b[0mbase_dir\u001b[0m\u001b[0;34m,\u001b[0m \u001b[0mdataset_dir\u001b[0m\u001b[0;34m,\u001b[0m \u001b[0mexperiment_dir\u001b[0m\u001b[0;34m,\u001b[0m \u001b[0;34m'summary.csv'\u001b[0m\u001b[0;34m)\u001b[0m\u001b[0;34m\u001b[0m\u001b[0;34m\u001b[0m\u001b[0m\n\u001b[1;32m    202\u001b[0m             \u001b[0mdf\u001b[0m\u001b[0;34m.\u001b[0m\u001b[0mto_csv\u001b[0m\u001b[0;34m(\u001b[0m\u001b[0mdf_dst_path\u001b[0m\u001b[0;34m,\u001b[0m \u001b[0mdecimal\u001b[0m\u001b[0;34m=\u001b[0m\u001b[0;34m','\u001b[0m\u001b[0;34m,\u001b[0m \u001b[0msep\u001b[0m\u001b[0;34m=\u001b[0m\u001b[0;34m';'\u001b[0m\u001b[0;34m,\u001b[0m \u001b[0mfloat_format\u001b[0m\u001b[0;34m=\u001b[0m\u001b[0;34m'%.5f'\u001b[0m\u001b[0;34m,\u001b[0m \u001b[0mindex\u001b[0m\u001b[0;34m=\u001b[0m\u001b[0;32mFalse\u001b[0m\u001b[0;34m)\u001b[0m\u001b[0;34m\u001b[0m\u001b[0;34m\u001b[0m\u001b[0m\n",
            "\u001b[0;32m/usr/local/lib/python3.10/dist-packages/pandas/core/generic.py\u001b[0m in \u001b[0;36m__getattr__\u001b[0;34m(self, name)\u001b[0m\n\u001b[1;32m   6297\u001b[0m         ):\n\u001b[1;32m   6298\u001b[0m             \u001b[0;32mreturn\u001b[0m \u001b[0mself\u001b[0m\u001b[0;34m[\u001b[0m\u001b[0mname\u001b[0m\u001b[0;34m]\u001b[0m\u001b[0;34m\u001b[0m\u001b[0;34m\u001b[0m\u001b[0m\n\u001b[0;32m-> 6299\u001b[0;31m         \u001b[0;32mreturn\u001b[0m \u001b[0mobject\u001b[0m\u001b[0;34m.\u001b[0m\u001b[0m__getattribute__\u001b[0m\u001b[0;34m(\u001b[0m\u001b[0mself\u001b[0m\u001b[0;34m,\u001b[0m \u001b[0mname\u001b[0m\u001b[0;34m)\u001b[0m\u001b[0;34m\u001b[0m\u001b[0;34m\u001b[0m\u001b[0m\n\u001b[0m\u001b[1;32m   6300\u001b[0m \u001b[0;34m\u001b[0m\u001b[0m\n\u001b[1;32m   6301\u001b[0m     \u001b[0;34m@\u001b[0m\u001b[0mfinal\u001b[0m\u001b[0;34m\u001b[0m\u001b[0;34m\u001b[0m\u001b[0m\n",
            "\u001b[0;31mAttributeError\u001b[0m: 'DataFrame' object has no attribute 'append'"
          ]
        },
        {
          "output_type": "display_data",
          "data": {
            "text/plain": [
              "<Figure size 640x480 with 0 Axes>"
            ]
          },
          "metadata": {}
        }
      ]
    },
    {
      "cell_type": "code",
      "source": [
        "import train\n",
        "import argparse\n",
        "\n",
        "\"\"\"# Number of daily log-returns to output\n",
        "n_out = 252 * 100000\n",
        "# Set nYearsIn to 0 for YFinance dataset\n",
        "nYearsIn = 10\n",
        "\"\"\"\n",
        "\n",
        "parser = argparse.ArgumentParser()\n",
        "# Meta parameters\n",
        "parser.add_argument('-base_dir', default='./numerical_results', type=str)\n",
        "parser.add_argument('-use_cuda', type=bool, default=True)\n",
        "# Specify the GPU to use\n",
        "parser.add_argument('-device', default=0, type=int)\n",
        "# For retraining, increase number of seeds\n",
        "parser.add_argument('-num_seeds', default=1, type=int)\n",
        "parser.add_argument('-initial_seed', default=42, type=int)\n",
        "parser.add_argument('-datasets', default=['Blackscholes'], nargs=\"+\")#, 'ARCH', 'VAR'\n",
        "parser.add_argument('-algos', default=['SigCWGAN'], nargs=\"+\") #, 'GMMN', 'RCGAN', 'TimeGAN', 'CWGAN'\n",
        "\n",
        "# Algo hyperparameters\n",
        "parser.add_argument('-batch_size', default=200, type=int)\n",
        "parser.add_argument('-p', default=3, type=int)\n",
        "parser.add_argument('-q', default=3, type=int)\n",
        "parser.add_argument('-hidden_dims', default=3 * (50,), type=tuple)\n",
        "parser.add_argument('-total_steps', default=1000, type=int)\n",
        "#parser.add_argument('-mc_samples', default=1000, type=int)\n",
        "\n",
        "# Ignore unknown arguments\n",
        "args, unknown = parser.parse_known_args()\n",
        "train.main(args) #, nYearsInOwn=nYearsIn, n_out=n_out"
      ],
      "metadata": {
        "colab": {
          "base_uri": "https://localhost:8080/"
        },
        "id": "OCbSE-DvHOfe",
        "outputId": "b27f421c-1475-48e3-d010-e9a55c399a20"
      },
      "execution_count": 5,
      "outputs": [
        {
          "output_type": "stream",
          "name": "stdout",
          "text": [
            "Start of training. CUDA: True\n",
            "Executing: SigCWGAN, Blackscholes, mu=0.05_sigma=0.2\n"
          ]
        },
        {
          "output_type": "stream",
          "name": "stderr",
          "text": [
            "100%|███████████████████████████████████████| 1000/1000 [00:58<00:00, 16.98it/s]\n"
          ]
        }
      ]
    },
    {
      "cell_type": "code",
      "source": [
        "%debug\n",
        "try:\n",
        "  %run train.py\n",
        "except Exception as e:\n",
        "  %debug"
      ],
      "metadata": {
        "id": "3aigiWWuI0SB"
      },
      "execution_count": null,
      "outputs": []
    },
    {
      "cell_type": "code",
      "source": [
        "#!git clone https://github.com/killivion/Conditional-Sig-Wasserstein-GANs /content/drive/MyDrive/Conditional-Sig-Wasserstein-GANs\n",
        "import os\n",
        "# Set working directory to MarketGenerators folder\n",
        "# If you are working on LRZ servers, create the folder \"MarketGenerators\" and then specify something like\n",
        "path = \"/dss/dsshome1/02/YOUR_LRZ_USER_NAME/MarketGenerators\"\n",
        "os.chdir(path)"
      ],
      "metadata": {
        "id": "U_fH1BG0G_8r"
      },
      "execution_count": null,
      "outputs": []
    }
  ]
}